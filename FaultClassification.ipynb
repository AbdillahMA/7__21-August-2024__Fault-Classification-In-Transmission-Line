{
 "cells": [
  {
   "cell_type": "markdown",
   "metadata": {},
   "source": [
    "#### **Section 1: Data Loading**"
   ]
  },
  {
   "cell_type": "code",
   "execution_count": 6,
   "metadata": {
    "ExecuteTime": {
     "end_time": "2024-08-12T03:26:04.376567Z",
     "start_time": "2024-08-12T03:26:01.981767Z"
    }
   },
   "outputs": [
    {
     "ename": "ModuleNotFoundError",
     "evalue": "No module named 'matplotlib'",
     "output_type": "error",
     "traceback": [
      "\u001b[1;31m---------------------------------------------------------------------------\u001b[0m",
      "\u001b[1;31mModuleNotFoundError\u001b[0m                       Traceback (most recent call last)",
      "Cell \u001b[1;32mIn[6], line 8\u001b[0m\n\u001b[0;32m      6\u001b[0m \u001b[38;5;28;01mimport\u001b[39;00m \u001b[38;5;21;01mtorch\u001b[39;00m\u001b[38;5;21;01m.\u001b[39;00m\u001b[38;5;21;01mnn\u001b[39;00m \u001b[38;5;28;01mas\u001b[39;00m \u001b[38;5;21;01mnn\u001b[39;00m\n\u001b[0;32m      7\u001b[0m \u001b[38;5;28;01mimport\u001b[39;00m \u001b[38;5;21;01mtorch\u001b[39;00m\u001b[38;5;21;01m.\u001b[39;00m\u001b[38;5;21;01moptim\u001b[39;00m \u001b[38;5;28;01mas\u001b[39;00m \u001b[38;5;21;01moptim\u001b[39;00m\n\u001b[1;32m----> 8\u001b[0m \u001b[38;5;28;01mimport\u001b[39;00m \u001b[38;5;21;01mmatplotlib\u001b[39;00m \u001b[38;5;28;01mas\u001b[39;00m \u001b[38;5;21;01mplt\u001b[39;00m\n\u001b[0;32m      9\u001b[0m \u001b[38;5;28;01mfrom\u001b[39;00m \u001b[38;5;21;01mtorch\u001b[39;00m\u001b[38;5;21;01m.\u001b[39;00m\u001b[38;5;21;01mutils\u001b[39;00m\u001b[38;5;21;01m.\u001b[39;00m\u001b[38;5;21;01mdata\u001b[39;00m \u001b[38;5;28;01mimport\u001b[39;00m DataLoader, Dataset, random_split\n\u001b[0;32m     10\u001b[0m \u001b[38;5;28;01mfrom\u001b[39;00m \u001b[38;5;21;01msklearn\u001b[39;00m\u001b[38;5;21;01m.\u001b[39;00m\u001b[38;5;21;01mpreprocessing\u001b[39;00m \u001b[38;5;28;01mimport\u001b[39;00m LabelEncoder, MinMaxScaler\n",
      "\u001b[1;31mModuleNotFoundError\u001b[0m: No module named 'matplotlib'"
     ]
    }
   ],
   "source": [
    "#1.1 Data Loading\n",
    "import random\n",
    "import pandas as pd\n",
    "import numpy as np\n",
    "import torch\n",
    "import torch.nn as nn\n",
    "import torch.optim as optim\n",
    "import matplotlib as plt\n",
    "import seaborn as sns\n",
    "from torch.utils.data import DataLoader, Dataset, random_split\n",
    "from sklearn.preprocessing import LabelEncoder, MinMaxScaler\n",
    "from sklearn.model_selection import train_test_split\n",
    "\n",
    "\n",
    "# Set random seeds for reproducibility\n",
    "random.seed(42)\n",
    "df = pd.read_csv('F:\\Abdillah\\LAB\\Matlab\\FaultDetection\\DariYoutube\\Simulink\\Result.csv')\n",
    "\n",
    "# # Check for missing values and duplicates\n",
    "# data_df.dropna(inplace=True)\n",
    "# data_df.drop_duplicates(inplace=True)\n",
    "\n",
    "# Display the first few rows of the dataset\n",
    "# print(\"First few rows of the dataset:\")\n",
    "# print(df.head())\n",
    "\n",
    " # Show number of columns and rows\n",
    "# num_rows, num_columns = df.shape\n",
    "# print(f\"Number of rows: {num_rows}\")\n",
    "# print(f\"Number of columns: {num_columns}\")\n",
    "\n",
    "df"
   ]
  },
  {
   "cell_type": "code",
   "execution_count": 7,
   "metadata": {
    "ExecuteTime": {
     "end_time": "2024-08-12T03:26:13.690252Z",
     "start_time": "2024-08-12T03:26:13.681275Z"
    }
   },
   "outputs": [
    {
     "name": "stdout",
     "output_type": "stream",
     "text": [
      "<class 'pandas.core.frame.DataFrame'>\n",
      "RangeIndex: 240 entries, 0 to 239\n",
      "Data columns (total 15 columns):\n",
      " #   Column                            Non-Null Count  Dtype  \n",
      "---  ------                            --------------  -----  \n",
      " 0   No                                240 non-null    int64  \n",
      " 1   Phase-to-phase Voltage\n",
      "(Vrms) kV  240 non-null    int64  \n",
      " 2   Phase angle                       240 non-null    int64  \n",
      " 3   Frequency                         240 non-null    int64  \n",
      " 4   Fault ground\n",
      "Resistance Ω         240 non-null    float64\n",
      " 5   FaultLoc                          240 non-null    object \n",
      " 6   FaultType                         240 non-null    object \n",
      " 7   MaxCoefA                          240 non-null    float64\n",
      " 8   MaxCoefB                          240 non-null    float64\n",
      " 9   MaxCoefC                          240 non-null    float64\n",
      " 10  MaxCoefGnd                        240 non-null    float64\n",
      " 11  A                                 240 non-null    int64  \n",
      " 12  B                                 240 non-null    int64  \n",
      " 13  C                                 240 non-null    int64  \n",
      " 14  G                                 240 non-null    int64  \n",
      "dtypes: float64(5), int64(8), object(2)\n",
      "memory usage: 28.2+ KB\n"
     ]
    }
   ],
   "source": [
    "df.info()"
   ]
  },
  {
   "cell_type": "code",
   "execution_count": 8,
   "metadata": {},
   "outputs": [
    {
     "data": {
      "text/plain": [
       "(240, 15)"
      ]
     },
     "execution_count": 8,
     "metadata": {},
     "output_type": "execute_result"
    }
   ],
   "source": [
    "df.shape"
   ]
  },
  {
   "cell_type": "code",
   "execution_count": 9,
   "metadata": {
    "ExecuteTime": {
     "end_time": "2024-08-12T03:30:30.507784Z",
     "start_time": "2024-08-12T03:30:30.498808Z"
    }
   },
   "outputs": [
    {
     "data": {
      "text/plain": [
       "False    220\n",
       "True      20\n",
       "Name: count, dtype: int64"
      ]
     },
     "execution_count": 9,
     "metadata": {},
     "output_type": "execute_result"
    }
   ],
   "source": [
    "# First we want to determine the numbers and rates of faulty and normal observations in data set\n",
    "no_faults = ((df[\"G\"] == 0) & (df[\"C\"] == 0) & (df[\"B\"] == 0) & (df[\"B\"] == 0)).value_counts()\n",
    "no_faults"
   ]
  },
  {
   "cell_type": "code",
   "execution_count": 10,
   "metadata": {},
   "outputs": [
    {
     "ename": "NameError",
     "evalue": "name 'plt' is not defined",
     "output_type": "error",
     "traceback": [
      "\u001b[1;31m---------------------------------------------------------------------------\u001b[0m",
      "\u001b[1;31mNameError\u001b[0m                                 Traceback (most recent call last)",
      "Cell \u001b[1;32mIn[10], line 2\u001b[0m\n\u001b[0;32m      1\u001b[0m cmap \u001b[38;5;241m=\u001b[39m [\u001b[38;5;124m\"\u001b[39m\u001b[38;5;124m#3274a1\u001b[39m\u001b[38;5;124m\"\u001b[39m, \u001b[38;5;124m\"\u001b[39m\u001b[38;5;124m#e1812c\u001b[39m\u001b[38;5;124m\"\u001b[39m, \u001b[38;5;124m\"\u001b[39m\u001b[38;5;124m#3a923a\u001b[39m\u001b[38;5;124m\"\u001b[39m, \u001b[38;5;124m\"\u001b[39m\u001b[38;5;124m#c03d3e\u001b[39m\u001b[38;5;124m\"\u001b[39m, \u001b[38;5;124m\"\u001b[39m\u001b[38;5;124m#857aab\u001b[39m\u001b[38;5;124m\"\u001b[39m, \u001b[38;5;124m\"\u001b[39m\u001b[38;5;124m#8d7866\u001b[39m\u001b[38;5;124m\"\u001b[39m]\n\u001b[1;32m----> 2\u001b[0m \u001b[43mplt\u001b[49m\u001b[38;5;241m.\u001b[39mpie(x \u001b[38;5;241m=\u001b[39m no_faults, \n\u001b[0;32m      3\u001b[0m         explode \u001b[38;5;241m=\u001b[39m [\u001b[38;5;241m0.1\u001b[39m, \u001b[38;5;241m0.1\u001b[39m],\n\u001b[0;32m      4\u001b[0m         labels \u001b[38;5;241m=\u001b[39m [\u001b[38;5;124m\"\u001b[39m\u001b[38;5;124mfaulty\u001b[39m\u001b[38;5;124m\"\u001b[39m, \u001b[38;5;124m\"\u001b[39m\u001b[38;5;124mnormal\u001b[39m\u001b[38;5;124m\"\u001b[39m],\n\u001b[0;32m      5\u001b[0m         colors \u001b[38;5;241m=\u001b[39m [\u001b[38;5;124m\"\u001b[39m\u001b[38;5;124m#c03d3e\u001b[39m\u001b[38;5;124m\"\u001b[39m, \u001b[38;5;124m\"\u001b[39m\u001b[38;5;124m#3a923a\u001b[39m\u001b[38;5;124m\"\u001b[39m],\n\u001b[0;32m      6\u001b[0m         autopct \u001b[38;5;241m=\u001b[39m \u001b[38;5;124m\"\u001b[39m\u001b[38;5;132;01m%.1f\u001b[39;00m\u001b[38;5;132;01m%%\u001b[39;00m\u001b[38;5;124m\"\u001b[39m, \n\u001b[0;32m      7\u001b[0m         shadow \u001b[38;5;241m=\u001b[39m \u001b[38;5;28;01mTrue\u001b[39;00m)\n\u001b[0;32m      8\u001b[0m plt\u001b[38;5;241m.\u001b[39mtitle(\u001b[38;5;124m\"\u001b[39m\u001b[38;5;124mGeneral Fault Rate\u001b[39m\u001b[38;5;124m\"\u001b[39m);\n",
      "\u001b[1;31mNameError\u001b[0m: name 'plt' is not defined"
     ]
    }
   ],
   "source": [
    "cmap = [\"#3274a1\", \"#e1812c\", \"#3a923a\", \"#c03d3e\", \"#857aab\", \"#8d7866\"]\n",
    "plt.pie(x = no_faults, \n",
    "        explode = [0.1, 0.1],\n",
    "        labels = [\"faulty\", \"normal\"],\n",
    "        colors = [\"#c03d3e\", \"#3a923a\"],\n",
    "        autopct = \"%.1f%%\", \n",
    "        shadow = True)\n",
    "plt.title(\"General Fault Rate\");"
   ]
  },
  {
   "cell_type": "code",
   "execution_count": 11,
   "metadata": {},
   "outputs": [
    {
     "data": {
      "text/plain": [
       "G\n",
       "1    140\n",
       "0    100\n",
       "Name: count, dtype: int64"
      ]
     },
     "execution_count": 11,
     "metadata": {},
     "output_type": "execute_result"
    }
   ],
   "source": [
    "# Second we want to seperate ground and phase faults\n",
    "gnd_faults = df[\"G\"].value_counts()\n",
    "gnd_faults"
   ]
  },
  {
   "cell_type": "code",
   "execution_count": 13,
   "metadata": {},
   "outputs": [
    {
     "ename": "NameError",
     "evalue": "name 'plt' is not defined",
     "output_type": "error",
     "traceback": [
      "\u001b[1;31m---------------------------------------------------------------------------\u001b[0m",
      "\u001b[1;31mNameError\u001b[0m                                 Traceback (most recent call last)",
      "Cell \u001b[1;32mIn[13], line 1\u001b[0m\n\u001b[1;32m----> 1\u001b[0m \u001b[43mplt\u001b[49m\u001b[38;5;241m.\u001b[39mpie(x \u001b[38;5;241m=\u001b[39m gnd_faults, \n\u001b[0;32m      2\u001b[0m         explode \u001b[38;5;241m=\u001b[39m [\u001b[38;5;241m0.1\u001b[39m, \u001b[38;5;241m0.1\u001b[39m],\n\u001b[0;32m      3\u001b[0m         labels \u001b[38;5;241m=\u001b[39m [\u001b[38;5;124m\"\u001b[39m\u001b[38;5;124mphase_fault\u001b[39m\u001b[38;5;124m\"\u001b[39m, \u001b[38;5;124m\"\u001b[39m\u001b[38;5;124mgnd_fault\u001b[39m\u001b[38;5;124m\"\u001b[39m],\n\u001b[0;32m      4\u001b[0m         colors \u001b[38;5;241m=\u001b[39m [\u001b[38;5;124m\"\u001b[39m\u001b[38;5;124m#857aab\u001b[39m\u001b[38;5;124m\"\u001b[39m, \u001b[38;5;124m\"\u001b[39m\u001b[38;5;124m#8d7866\u001b[39m\u001b[38;5;124m\"\u001b[39m],\n\u001b[0;32m      5\u001b[0m         autopct \u001b[38;5;241m=\u001b[39m \u001b[38;5;124m\"\u001b[39m\u001b[38;5;132;01m%.1f\u001b[39;00m\u001b[38;5;132;01m%%\u001b[39;00m\u001b[38;5;124m\"\u001b[39m, \n\u001b[0;32m      6\u001b[0m         shadow \u001b[38;5;241m=\u001b[39m \u001b[38;5;28;01mTrue\u001b[39;00m)\n\u001b[0;32m      7\u001b[0m plt\u001b[38;5;241m.\u001b[39mtitle(\u001b[38;5;124m\"\u001b[39m\u001b[38;5;124mGround Faults\u001b[39m\u001b[38;5;124m\"\u001b[39m);\n",
      "\u001b[1;31mNameError\u001b[0m: name 'plt' is not defined"
     ]
    }
   ],
   "source": [
    "\n",
    "plt.pie(x = gnd_faults, \n",
    "        explode = [0.1, 0.1],\n",
    "        labels = [\"phase_fault\", \"gnd_fault\"],\n",
    "        colors = [\"#857aab\", \"#8d7866\"],\n",
    "        autopct = \"%.1f%%\", \n",
    "        shadow = True)\n",
    "plt.title(\"Ground Faults\");"
   ]
  },
  {
   "cell_type": "code",
   "execution_count": 19,
   "metadata": {},
   "outputs": [
    {
     "data": {
      "text/html": [
       "<div>\n",
       "<style scoped>\n",
       "    .dataframe tbody tr th:only-of-type {\n",
       "        vertical-align: middle;\n",
       "    }\n",
       "\n",
       "    .dataframe tbody tr th {\n",
       "        vertical-align: top;\n",
       "    }\n",
       "\n",
       "    .dataframe thead th {\n",
       "        text-align: right;\n",
       "    }\n",
       "</style>\n",
       "<table border=\"1\" class=\"dataframe\">\n",
       "  <thead>\n",
       "    <tr style=\"text-align: right;\">\n",
       "      <th></th>\n",
       "      <th>No</th>\n",
       "      <th>Phase-to-phase Voltage\\n(Vrms) kV</th>\n",
       "      <th>Phase angle</th>\n",
       "      <th>Frequency</th>\n",
       "      <th>Fault ground\\nResistance Ω</th>\n",
       "      <th>FaultLoc</th>\n",
       "      <th>FaultType</th>\n",
       "      <th>MaxCoefA</th>\n",
       "      <th>MaxCoefB</th>\n",
       "      <th>MaxCoefC</th>\n",
       "      <th>MaxCoefGnd</th>\n",
       "      <th>A</th>\n",
       "      <th>B</th>\n",
       "      <th>C</th>\n",
       "      <th>G</th>\n",
       "      <th>FType</th>\n",
       "    </tr>\n",
       "  </thead>\n",
       "  <tbody>\n",
       "    <tr>\n",
       "      <th>0</th>\n",
       "      <td>1</td>\n",
       "      <td>250</td>\n",
       "      <td>0</td>\n",
       "      <td>60</td>\n",
       "      <td>0.1</td>\n",
       "      <td>Before transmission line</td>\n",
       "      <td>ABC-G</td>\n",
       "      <td>16097055.71</td>\n",
       "      <td>40725475.36</td>\n",
       "      <td>16097055.71</td>\n",
       "      <td>79893.30</td>\n",
       "      <td>1</td>\n",
       "      <td>1</td>\n",
       "      <td>1</td>\n",
       "      <td>1</td>\n",
       "      <td>1111</td>\n",
       "    </tr>\n",
       "    <tr>\n",
       "      <th>1</th>\n",
       "      <td>2</td>\n",
       "      <td>250</td>\n",
       "      <td>0</td>\n",
       "      <td>60</td>\n",
       "      <td>0.1</td>\n",
       "      <td>Before transmission line</td>\n",
       "      <td>ABC</td>\n",
       "      <td>16097055.71</td>\n",
       "      <td>40725475.36</td>\n",
       "      <td>16097055.71</td>\n",
       "      <td>0.01</td>\n",
       "      <td>1</td>\n",
       "      <td>1</td>\n",
       "      <td>1</td>\n",
       "      <td>0</td>\n",
       "      <td>1110</td>\n",
       "    </tr>\n",
       "    <tr>\n",
       "      <th>2</th>\n",
       "      <td>3</td>\n",
       "      <td>250</td>\n",
       "      <td>0</td>\n",
       "      <td>60</td>\n",
       "      <td>0.1</td>\n",
       "      <td>Before transmission line</td>\n",
       "      <td>AB-G</td>\n",
       "      <td>10803035.42</td>\n",
       "      <td>20464068.14</td>\n",
       "      <td>103.98</td>\n",
       "      <td>86421.48</td>\n",
       "      <td>1</td>\n",
       "      <td>1</td>\n",
       "      <td>0</td>\n",
       "      <td>1</td>\n",
       "      <td>1101</td>\n",
       "    </tr>\n",
       "    <tr>\n",
       "      <th>3</th>\n",
       "      <td>4</td>\n",
       "      <td>250</td>\n",
       "      <td>0</td>\n",
       "      <td>60</td>\n",
       "      <td>0.1</td>\n",
       "      <td>Before transmission line</td>\n",
       "      <td>AC-G</td>\n",
       "      <td>20261370.35</td>\n",
       "      <td>103.98</td>\n",
       "      <td>8624427.56</td>\n",
       "      <td>202614.07</td>\n",
       "      <td>1</td>\n",
       "      <td>0</td>\n",
       "      <td>1</td>\n",
       "      <td>1</td>\n",
       "      <td>1011</td>\n",
       "    </tr>\n",
       "    <tr>\n",
       "      <th>4</th>\n",
       "      <td>5</td>\n",
       "      <td>250</td>\n",
       "      <td>0</td>\n",
       "      <td>60</td>\n",
       "      <td>0.1</td>\n",
       "      <td>Before transmission line</td>\n",
       "      <td>BC-G</td>\n",
       "      <td>103.98</td>\n",
       "      <td>40725475.36</td>\n",
       "      <td>7176136.72</td>\n",
       "      <td>99363.73</td>\n",
       "      <td>0</td>\n",
       "      <td>1</td>\n",
       "      <td>1</td>\n",
       "      <td>1</td>\n",
       "      <td>0111</td>\n",
       "    </tr>\n",
       "    <tr>\n",
       "      <th>...</th>\n",
       "      <td>...</td>\n",
       "      <td>...</td>\n",
       "      <td>...</td>\n",
       "      <td>...</td>\n",
       "      <td>...</td>\n",
       "      <td>...</td>\n",
       "      <td>...</td>\n",
       "      <td>...</td>\n",
       "      <td>...</td>\n",
       "      <td>...</td>\n",
       "      <td>...</td>\n",
       "      <td>...</td>\n",
       "      <td>...</td>\n",
       "      <td>...</td>\n",
       "      <td>...</td>\n",
       "      <td>...</td>\n",
       "    </tr>\n",
       "    <tr>\n",
       "      <th>235</th>\n",
       "      <td>236</td>\n",
       "      <td>250</td>\n",
       "      <td>0</td>\n",
       "      <td>60</td>\n",
       "      <td>1.0</td>\n",
       "      <td>After transmission line</td>\n",
       "      <td>B-C</td>\n",
       "      <td>115.72</td>\n",
       "      <td>594.60</td>\n",
       "      <td>735.53</td>\n",
       "      <td>0.01</td>\n",
       "      <td>0</td>\n",
       "      <td>1</td>\n",
       "      <td>1</td>\n",
       "      <td>0</td>\n",
       "      <td>0110</td>\n",
       "    </tr>\n",
       "    <tr>\n",
       "      <th>236</th>\n",
       "      <td>237</td>\n",
       "      <td>250</td>\n",
       "      <td>0</td>\n",
       "      <td>60</td>\n",
       "      <td>1.0</td>\n",
       "      <td>After transmission line</td>\n",
       "      <td>A-G</td>\n",
       "      <td>852.78</td>\n",
       "      <td>75.29</td>\n",
       "      <td>102.68</td>\n",
       "      <td>778.38</td>\n",
       "      <td>1</td>\n",
       "      <td>0</td>\n",
       "      <td>0</td>\n",
       "      <td>1</td>\n",
       "      <td>1001</td>\n",
       "    </tr>\n",
       "    <tr>\n",
       "      <th>237</th>\n",
       "      <td>238</td>\n",
       "      <td>250</td>\n",
       "      <td>0</td>\n",
       "      <td>60</td>\n",
       "      <td>1.0</td>\n",
       "      <td>After transmission line</td>\n",
       "      <td>B-G</td>\n",
       "      <td>114.87</td>\n",
       "      <td>421.49</td>\n",
       "      <td>107.07</td>\n",
       "      <td>659.07</td>\n",
       "      <td>0</td>\n",
       "      <td>1</td>\n",
       "      <td>0</td>\n",
       "      <td>1</td>\n",
       "      <td>0101</td>\n",
       "    </tr>\n",
       "    <tr>\n",
       "      <th>238</th>\n",
       "      <td>239</td>\n",
       "      <td>250</td>\n",
       "      <td>0</td>\n",
       "      <td>60</td>\n",
       "      <td>1.0</td>\n",
       "      <td>After transmission line</td>\n",
       "      <td>C-G</td>\n",
       "      <td>131.07</td>\n",
       "      <td>131.07</td>\n",
       "      <td>846.38</td>\n",
       "      <td>591.62</td>\n",
       "      <td>0</td>\n",
       "      <td>0</td>\n",
       "      <td>1</td>\n",
       "      <td>1</td>\n",
       "      <td>0011</td>\n",
       "    </tr>\n",
       "    <tr>\n",
       "      <th>239</th>\n",
       "      <td>240</td>\n",
       "      <td>250</td>\n",
       "      <td>0</td>\n",
       "      <td>60</td>\n",
       "      <td>1.0</td>\n",
       "      <td>After transmission line</td>\n",
       "      <td>NO FAULT</td>\n",
       "      <td>72.11</td>\n",
       "      <td>132.09</td>\n",
       "      <td>115.72</td>\n",
       "      <td>0.00</td>\n",
       "      <td>0</td>\n",
       "      <td>0</td>\n",
       "      <td>0</td>\n",
       "      <td>0</td>\n",
       "      <td>0000</td>\n",
       "    </tr>\n",
       "  </tbody>\n",
       "</table>\n",
       "<p>240 rows × 16 columns</p>\n",
       "</div>"
      ],
      "text/plain": [
       "      No  Phase-to-phase Voltage\\n(Vrms) kV  Phase angle  Frequency  \\\n",
       "0      1                                250            0         60   \n",
       "1      2                                250            0         60   \n",
       "2      3                                250            0         60   \n",
       "3      4                                250            0         60   \n",
       "4      5                                250            0         60   \n",
       "..   ...                                ...          ...        ...   \n",
       "235  236                                250            0         60   \n",
       "236  237                                250            0         60   \n",
       "237  238                                250            0         60   \n",
       "238  239                                250            0         60   \n",
       "239  240                                250            0         60   \n",
       "\n",
       "     Fault ground\\nResistance Ω                  FaultLoc FaultType  \\\n",
       "0                           0.1  Before transmission line     ABC-G   \n",
       "1                           0.1  Before transmission line       ABC   \n",
       "2                           0.1  Before transmission line      AB-G   \n",
       "3                           0.1  Before transmission line      AC-G   \n",
       "4                           0.1  Before transmission line      BC-G   \n",
       "..                          ...                       ...       ...   \n",
       "235                         1.0   After transmission line       B-C   \n",
       "236                         1.0   After transmission line       A-G   \n",
       "237                         1.0   After transmission line       B-G   \n",
       "238                         1.0   After transmission line       C-G   \n",
       "239                         1.0   After transmission line  NO FAULT   \n",
       "\n",
       "        MaxCoefA     MaxCoefB     MaxCoefC  MaxCoefGnd  A  B  C  G FType  \n",
       "0    16097055.71  40725475.36  16097055.71    79893.30  1  1  1  1  1111  \n",
       "1    16097055.71  40725475.36  16097055.71        0.01  1  1  1  0  1110  \n",
       "2    10803035.42  20464068.14       103.98    86421.48  1  1  0  1  1101  \n",
       "3    20261370.35       103.98   8624427.56   202614.07  1  0  1  1  1011  \n",
       "4         103.98  40725475.36   7176136.72    99363.73  0  1  1  1  0111  \n",
       "..           ...          ...          ...         ... .. .. .. ..   ...  \n",
       "235       115.72       594.60       735.53        0.01  0  1  1  0  0110  \n",
       "236       852.78        75.29       102.68      778.38  1  0  0  1  1001  \n",
       "237       114.87       421.49       107.07      659.07  0  1  0  1  0101  \n",
       "238       131.07       131.07       846.38      591.62  0  0  1  1  0011  \n",
       "239        72.11       132.09       115.72        0.00  0  0  0  0  0000  \n",
       "\n",
       "[240 rows x 16 columns]"
      ]
     },
     "execution_count": 19,
     "metadata": {},
     "output_type": "execute_result"
    }
   ],
   "source": [
    "# For detailed fault types we represent faults in one fault type column: FType, \n",
    "# which we will use it as a target column later.\n",
    "df[\"FType\"] = df[\"A\"].astype(\"str\") + df[\"B\"].astype(\"str\") + df[\"C\"].astype(\"str\") + df[\"G\"].astype(\"str\")\n",
    "df"
   ]
  },
  {
   "cell_type": "code",
   "execution_count": null,
   "metadata": {},
   "outputs": [],
   "source": []
  },
  {
   "cell_type": "markdown",
   "metadata": {},
   "source": [
    "#### **Section 2: Features Engineering**"
   ]
  },
  {
   "cell_type": "markdown",
   "metadata": {},
   "source": [
    "1. Data Processing(Data Cleaning, Data Selection, Features Selection)\n",
    "   1. Data View\n",
    "   2. Data Cleaning\n",
    "   3. Data Selection\n",
    "   4. Data Formatting\n",
    "   5. Features and Label Selection\n",
    "2. Splitting\n",
    "3. Scaling,Normalizing, Standard, etc\n",
    "4. Tensor Initialization"
   ]
  },
  {
   "cell_type": "code",
   "execution_count": 2,
   "metadata": {},
   "outputs": [
    {
     "data": {
      "text/html": [
       "<div>\n",
       "<style scoped>\n",
       "    .dataframe tbody tr th:only-of-type {\n",
       "        vertical-align: middle;\n",
       "    }\n",
       "\n",
       "    .dataframe tbody tr th {\n",
       "        vertical-align: top;\n",
       "    }\n",
       "\n",
       "    .dataframe thead th {\n",
       "        text-align: right;\n",
       "    }\n",
       "</style>\n",
       "<table border=\"1\" class=\"dataframe\">\n",
       "  <thead>\n",
       "    <tr style=\"text-align: right;\">\n",
       "      <th></th>\n",
       "      <th>FaultLoc</th>\n",
       "      <th>FaultType</th>\n",
       "      <th>MaxCoefA</th>\n",
       "      <th>MaxCoefB</th>\n",
       "      <th>MaxCoefC</th>\n",
       "      <th>MaxCoefGnd</th>\n",
       "      <th>FaultA</th>\n",
       "      <th>FaultB</th>\n",
       "      <th>FaultC</th>\n",
       "      <th>FaultGnd</th>\n",
       "    </tr>\n",
       "  </thead>\n",
       "  <tbody>\n",
       "    <tr>\n",
       "      <th>0</th>\n",
       "      <td>Before transmission line</td>\n",
       "      <td>ABC-G</td>\n",
       "      <td>16097055.71</td>\n",
       "      <td>40725475.36</td>\n",
       "      <td>16097055.71</td>\n",
       "      <td>79893.30</td>\n",
       "      <td>1</td>\n",
       "      <td>1</td>\n",
       "      <td>1</td>\n",
       "      <td>1</td>\n",
       "    </tr>\n",
       "    <tr>\n",
       "      <th>1</th>\n",
       "      <td>Before transmission line</td>\n",
       "      <td>ABC</td>\n",
       "      <td>16097055.71</td>\n",
       "      <td>40725475.36</td>\n",
       "      <td>16097055.71</td>\n",
       "      <td>0.01</td>\n",
       "      <td>1</td>\n",
       "      <td>1</td>\n",
       "      <td>1</td>\n",
       "      <td>0</td>\n",
       "    </tr>\n",
       "    <tr>\n",
       "      <th>2</th>\n",
       "      <td>Before transmission line</td>\n",
       "      <td>AB-G</td>\n",
       "      <td>10803035.42</td>\n",
       "      <td>20464068.14</td>\n",
       "      <td>103.98</td>\n",
       "      <td>86421.48</td>\n",
       "      <td>1</td>\n",
       "      <td>1</td>\n",
       "      <td>0</td>\n",
       "      <td>1</td>\n",
       "    </tr>\n",
       "    <tr>\n",
       "      <th>3</th>\n",
       "      <td>Before transmission line</td>\n",
       "      <td>AC-G</td>\n",
       "      <td>20261370.35</td>\n",
       "      <td>103.98</td>\n",
       "      <td>8624427.56</td>\n",
       "      <td>202614.07</td>\n",
       "      <td>1</td>\n",
       "      <td>0</td>\n",
       "      <td>1</td>\n",
       "      <td>1</td>\n",
       "    </tr>\n",
       "    <tr>\n",
       "      <th>4</th>\n",
       "      <td>Before transmission line</td>\n",
       "      <td>BC-G</td>\n",
       "      <td>103.98</td>\n",
       "      <td>40725475.36</td>\n",
       "      <td>7176136.72</td>\n",
       "      <td>99363.73</td>\n",
       "      <td>0</td>\n",
       "      <td>1</td>\n",
       "      <td>1</td>\n",
       "      <td>1</td>\n",
       "    </tr>\n",
       "    <tr>\n",
       "      <th>...</th>\n",
       "      <td>...</td>\n",
       "      <td>...</td>\n",
       "      <td>...</td>\n",
       "      <td>...</td>\n",
       "      <td>...</td>\n",
       "      <td>...</td>\n",
       "      <td>...</td>\n",
       "      <td>...</td>\n",
       "      <td>...</td>\n",
       "      <td>...</td>\n",
       "    </tr>\n",
       "    <tr>\n",
       "      <th>235</th>\n",
       "      <td>After transmission line</td>\n",
       "      <td>B-C</td>\n",
       "      <td>115.72</td>\n",
       "      <td>594.60</td>\n",
       "      <td>735.53</td>\n",
       "      <td>0.01</td>\n",
       "      <td>0</td>\n",
       "      <td>1</td>\n",
       "      <td>1</td>\n",
       "      <td>0</td>\n",
       "    </tr>\n",
       "    <tr>\n",
       "      <th>236</th>\n",
       "      <td>After transmission line</td>\n",
       "      <td>A-G</td>\n",
       "      <td>852.78</td>\n",
       "      <td>75.29</td>\n",
       "      <td>102.68</td>\n",
       "      <td>778.38</td>\n",
       "      <td>1</td>\n",
       "      <td>0</td>\n",
       "      <td>0</td>\n",
       "      <td>1</td>\n",
       "    </tr>\n",
       "    <tr>\n",
       "      <th>237</th>\n",
       "      <td>After transmission line</td>\n",
       "      <td>B-G</td>\n",
       "      <td>114.87</td>\n",
       "      <td>421.49</td>\n",
       "      <td>107.07</td>\n",
       "      <td>659.07</td>\n",
       "      <td>0</td>\n",
       "      <td>1</td>\n",
       "      <td>0</td>\n",
       "      <td>1</td>\n",
       "    </tr>\n",
       "    <tr>\n",
       "      <th>238</th>\n",
       "      <td>After transmission line</td>\n",
       "      <td>C-G</td>\n",
       "      <td>131.07</td>\n",
       "      <td>131.07</td>\n",
       "      <td>846.38</td>\n",
       "      <td>591.62</td>\n",
       "      <td>0</td>\n",
       "      <td>0</td>\n",
       "      <td>1</td>\n",
       "      <td>1</td>\n",
       "    </tr>\n",
       "    <tr>\n",
       "      <th>239</th>\n",
       "      <td>After transmission line</td>\n",
       "      <td>NO FAULT</td>\n",
       "      <td>72.11</td>\n",
       "      <td>132.09</td>\n",
       "      <td>115.72</td>\n",
       "      <td>0.00</td>\n",
       "      <td>0</td>\n",
       "      <td>0</td>\n",
       "      <td>0</td>\n",
       "      <td>0</td>\n",
       "    </tr>\n",
       "  </tbody>\n",
       "</table>\n",
       "<p>240 rows × 10 columns</p>\n",
       "</div>"
      ],
      "text/plain": [
       "                     FaultLoc FaultType     MaxCoefA     MaxCoefB  \\\n",
       "0    Before transmission line     ABC-G  16097055.71  40725475.36   \n",
       "1    Before transmission line       ABC  16097055.71  40725475.36   \n",
       "2    Before transmission line      AB-G  10803035.42  20464068.14   \n",
       "3    Before transmission line      AC-G  20261370.35       103.98   \n",
       "4    Before transmission line      BC-G       103.98  40725475.36   \n",
       "..                        ...       ...          ...          ...   \n",
       "235   After transmission line       B-C       115.72       594.60   \n",
       "236   After transmission line       A-G       852.78        75.29   \n",
       "237   After transmission line       B-G       114.87       421.49   \n",
       "238   After transmission line       C-G       131.07       131.07   \n",
       "239   After transmission line  NO FAULT        72.11       132.09   \n",
       "\n",
       "        MaxCoefC  MaxCoefGnd  FaultA  FaultB  FaultC  FaultGnd  \n",
       "0    16097055.71    79893.30       1       1       1         1  \n",
       "1    16097055.71        0.01       1       1       1         0  \n",
       "2         103.98    86421.48       1       1       0         1  \n",
       "3     8624427.56   202614.07       1       0       1         1  \n",
       "4     7176136.72    99363.73       0       1       1         1  \n",
       "..           ...         ...     ...     ...     ...       ...  \n",
       "235       735.53        0.01       0       1       1         0  \n",
       "236       102.68      778.38       1       0       0         1  \n",
       "237       107.07      659.07       0       1       0         1  \n",
       "238       846.38      591.62       0       0       1         1  \n",
       "239       115.72        0.00       0       0       0         0  \n",
       "\n",
       "[240 rows x 10 columns]"
      ]
     },
     "execution_count": 2,
     "metadata": {},
     "output_type": "execute_result"
    }
   ],
   "source": [
    "#2.1.1-2 Data View, Data Cleaning\n",
    "df.drop([\"No\", \"Phase-to-phase Voltage\\n(Vrms) kV\", \"Phase angle\", \"Frequency\", \"Fault ground\\nResistance Ω\"], axis=1, inplace=True)\n",
    "df"
   ]
  },
  {
   "cell_type": "code",
   "execution_count": 3,
   "metadata": {},
   "outputs": [],
   "source": [
    "#2.1.1-2 Data View, Data Cleaning\n",
    "cats=[\"FaultLoc\",\"FaultType\",\"FaultA\",\"FaultB\",\"FaultC\",\"FaultGnd\"]\n",
    "nums=[i for i in df.columns if i not in cats]"
   ]
  },
  {
   "cell_type": "code",
   "execution_count": 4,
   "metadata": {},
   "outputs": [
    {
     "ename": "KeyError",
     "evalue": "'Type'",
     "output_type": "error",
     "traceback": [
      "\u001b[1;31m---------------------------------------------------------------------------\u001b[0m",
      "\u001b[1;31mKeyError\u001b[0m                                  Traceback (most recent call last)",
      "File \u001b[1;32mf:\\Abdillah\\Apps\\Anaconda\\envs\\DL\\lib\\site-packages\\pandas\\core\\indexes\\base.py:3805\u001b[0m, in \u001b[0;36mIndex.get_loc\u001b[1;34m(self, key)\u001b[0m\n\u001b[0;32m   3804\u001b[0m \u001b[38;5;28;01mtry\u001b[39;00m:\n\u001b[1;32m-> 3805\u001b[0m     \u001b[38;5;28;01mreturn\u001b[39;00m \u001b[38;5;28;43mself\u001b[39;49m\u001b[38;5;241;43m.\u001b[39;49m\u001b[43m_engine\u001b[49m\u001b[38;5;241;43m.\u001b[39;49m\u001b[43mget_loc\u001b[49m\u001b[43m(\u001b[49m\u001b[43mcasted_key\u001b[49m\u001b[43m)\u001b[49m\n\u001b[0;32m   3806\u001b[0m \u001b[38;5;28;01mexcept\u001b[39;00m \u001b[38;5;167;01mKeyError\u001b[39;00m \u001b[38;5;28;01mas\u001b[39;00m err:\n",
      "File \u001b[1;32mindex.pyx:167\u001b[0m, in \u001b[0;36mpandas._libs.index.IndexEngine.get_loc\u001b[1;34m()\u001b[0m\n",
      "File \u001b[1;32mindex.pyx:196\u001b[0m, in \u001b[0;36mpandas._libs.index.IndexEngine.get_loc\u001b[1;34m()\u001b[0m\n",
      "File \u001b[1;32mpandas\\\\_libs\\\\hashtable_class_helper.pxi:7081\u001b[0m, in \u001b[0;36mpandas._libs.hashtable.PyObjectHashTable.get_item\u001b[1;34m()\u001b[0m\n",
      "File \u001b[1;32mpandas\\\\_libs\\\\hashtable_class_helper.pxi:7089\u001b[0m, in \u001b[0;36mpandas._libs.hashtable.PyObjectHashTable.get_item\u001b[1;34m()\u001b[0m\n",
      "\u001b[1;31mKeyError\u001b[0m: 'Type'",
      "\nThe above exception was the direct cause of the following exception:\n",
      "\u001b[1;31mKeyError\u001b[0m                                  Traceback (most recent call last)",
      "Cell \u001b[1;32mIn[4], line 5\u001b[0m\n\u001b[0;32m      1\u001b[0m \u001b[38;5;66;03m#2.1.3 Data Selection, 2.1.4 Data Formatting\u001b[39;00m\n\u001b[0;32m      2\u001b[0m \n\u001b[0;32m      3\u001b[0m \u001b[38;5;66;03m# Encode categorical variables\u001b[39;00m\n\u001b[0;32m      4\u001b[0m le_type \u001b[38;5;241m=\u001b[39m LabelEncoder()\n\u001b[1;32m----> 5\u001b[0m df[\u001b[38;5;124m\"\u001b[39m\u001b[38;5;124mType\u001b[39m\u001b[38;5;124m\"\u001b[39m] \u001b[38;5;241m=\u001b[39m le_type\u001b[38;5;241m.\u001b[39mfit_transform(\u001b[43mdf\u001b[49m\u001b[43m[\u001b[49m\u001b[38;5;124;43m\"\u001b[39;49m\u001b[38;5;124;43mType\u001b[39;49m\u001b[38;5;124;43m\"\u001b[39;49m\u001b[43m]\u001b[49m\u001b[38;5;241m.\u001b[39mvalues)\n\u001b[0;32m      6\u001b[0m TypeMap \u001b[38;5;241m=\u001b[39m \u001b[38;5;28mdict\u001b[39m(\u001b[38;5;28mzip\u001b[39m(le_type\u001b[38;5;241m.\u001b[39mtransform(le_type\u001b[38;5;241m.\u001b[39mclasses_), le_type\u001b[38;5;241m.\u001b[39mclasses_))\n\u001b[0;32m      7\u001b[0m \u001b[38;5;28mprint\u001b[39m(\u001b[38;5;124m\"\u001b[39m\u001b[38;5;124mTypeMap:\u001b[39m\u001b[38;5;124m\"\u001b[39m, TypeMap)\n",
      "File \u001b[1;32mf:\\Abdillah\\Apps\\Anaconda\\envs\\DL\\lib\\site-packages\\pandas\\core\\frame.py:4102\u001b[0m, in \u001b[0;36mDataFrame.__getitem__\u001b[1;34m(self, key)\u001b[0m\n\u001b[0;32m   4100\u001b[0m \u001b[38;5;28;01mif\u001b[39;00m \u001b[38;5;28mself\u001b[39m\u001b[38;5;241m.\u001b[39mcolumns\u001b[38;5;241m.\u001b[39mnlevels \u001b[38;5;241m>\u001b[39m \u001b[38;5;241m1\u001b[39m:\n\u001b[0;32m   4101\u001b[0m     \u001b[38;5;28;01mreturn\u001b[39;00m \u001b[38;5;28mself\u001b[39m\u001b[38;5;241m.\u001b[39m_getitem_multilevel(key)\n\u001b[1;32m-> 4102\u001b[0m indexer \u001b[38;5;241m=\u001b[39m \u001b[38;5;28;43mself\u001b[39;49m\u001b[38;5;241;43m.\u001b[39;49m\u001b[43mcolumns\u001b[49m\u001b[38;5;241;43m.\u001b[39;49m\u001b[43mget_loc\u001b[49m\u001b[43m(\u001b[49m\u001b[43mkey\u001b[49m\u001b[43m)\u001b[49m\n\u001b[0;32m   4103\u001b[0m \u001b[38;5;28;01mif\u001b[39;00m is_integer(indexer):\n\u001b[0;32m   4104\u001b[0m     indexer \u001b[38;5;241m=\u001b[39m [indexer]\n",
      "File \u001b[1;32mf:\\Abdillah\\Apps\\Anaconda\\envs\\DL\\lib\\site-packages\\pandas\\core\\indexes\\base.py:3812\u001b[0m, in \u001b[0;36mIndex.get_loc\u001b[1;34m(self, key)\u001b[0m\n\u001b[0;32m   3807\u001b[0m     \u001b[38;5;28;01mif\u001b[39;00m \u001b[38;5;28misinstance\u001b[39m(casted_key, \u001b[38;5;28mslice\u001b[39m) \u001b[38;5;129;01mor\u001b[39;00m (\n\u001b[0;32m   3808\u001b[0m         \u001b[38;5;28misinstance\u001b[39m(casted_key, abc\u001b[38;5;241m.\u001b[39mIterable)\n\u001b[0;32m   3809\u001b[0m         \u001b[38;5;129;01mand\u001b[39;00m \u001b[38;5;28many\u001b[39m(\u001b[38;5;28misinstance\u001b[39m(x, \u001b[38;5;28mslice\u001b[39m) \u001b[38;5;28;01mfor\u001b[39;00m x \u001b[38;5;129;01min\u001b[39;00m casted_key)\n\u001b[0;32m   3810\u001b[0m     ):\n\u001b[0;32m   3811\u001b[0m         \u001b[38;5;28;01mraise\u001b[39;00m InvalidIndexError(key)\n\u001b[1;32m-> 3812\u001b[0m     \u001b[38;5;28;01mraise\u001b[39;00m \u001b[38;5;167;01mKeyError\u001b[39;00m(key) \u001b[38;5;28;01mfrom\u001b[39;00m \u001b[38;5;21;01merr\u001b[39;00m\n\u001b[0;32m   3813\u001b[0m \u001b[38;5;28;01mexcept\u001b[39;00m \u001b[38;5;167;01mTypeError\u001b[39;00m:\n\u001b[0;32m   3814\u001b[0m     \u001b[38;5;66;03m# If we have a listlike key, _check_indexing_error will raise\u001b[39;00m\n\u001b[0;32m   3815\u001b[0m     \u001b[38;5;66;03m#  InvalidIndexError. Otherwise we fall through and re-raise\u001b[39;00m\n\u001b[0;32m   3816\u001b[0m     \u001b[38;5;66;03m#  the TypeError.\u001b[39;00m\n\u001b[0;32m   3817\u001b[0m     \u001b[38;5;28mself\u001b[39m\u001b[38;5;241m.\u001b[39m_check_indexing_error(key)\n",
      "\u001b[1;31mKeyError\u001b[0m: 'Type'"
     ]
    }
   ],
   "source": [
    "#2.1.3 Data Selection, 2.1.4 Data Formatting\n",
    "\n",
    "# Encode categorical variables\n",
    "le_FaultLoc = LabelEncoder()\n",
    "df[\"FaultLoc\"] = le_FaultLoc.fit_transform(df[\"FaultLoc\"].values)\n",
    "FaultLocMap = dict(zip(le_FaultLoc.transform(le_FaultLoc.classes_), le_FaultLoc.classes_))\n",
    "print(\"FaultLoc:\", FaultLocMap)\n",
    "\n",
    "le_FaultType = LabelEncoder()\n",
    "df[\"FaultType\"] = le_FaultType.fit_transform(df[\"FaultType\"].values)\n",
    "FaultTypeMap = dict(zip(le_FaultType.transform(le_FaultType.classes_), le_FaultType.classes_))\n",
    "print(\"FaultType:\", FaultTypeMap)\n",
    "\n",
    "# # Prepare the multilabel targets\n",
    "# y_multilabel = df[[\"Target\", \"Failure Type\"]].values\n",
    "# X = df.drop(columns=[\"Target\", \"Failure Type\"]).values"
   ]
  },
  {
   "cell_type": "code",
   "execution_count": null,
   "metadata": {},
   "outputs": [],
   "source": [
    "\n",
    "#2.1.3 Data Selection"
   ]
  },
  {
   "cell_type": "code",
   "execution_count": null,
   "metadata": {},
   "outputs": [],
   "source": [
    "#2.1.4 Data Formatting"
   ]
  },
  {
   "cell_type": "code",
   "execution_count": null,
   "metadata": {},
   "outputs": [],
   "source": [
    "#2.1.5 Feature and Target Selection"
   ]
  },
  {
   "cell_type": "code",
   "execution_count": null,
   "metadata": {},
   "outputs": [],
   "source": [
    "#2.2 Splitting the Data"
   ]
  },
  {
   "cell_type": "code",
   "execution_count": null,
   "metadata": {},
   "outputs": [],
   "source": [
    "#2.3 Scaling"
   ]
  },
  {
   "cell_type": "markdown",
   "metadata": {},
   "source": [
    "#### **Section 3: Create Dataset & DataLoader**"
   ]
  },
  {
   "cell_type": "code",
   "execution_count": null,
   "metadata": {},
   "outputs": [],
   "source": [
    "#3.1 Create Dataset and DataLoader"
   ]
  },
  {
   "cell_type": "markdown",
   "metadata": {},
   "source": [
    "#### **Section 4 : The Architecture**"
   ]
  },
  {
   "cell_type": "code",
   "execution_count": null,
   "metadata": {},
   "outputs": [],
   "source": [
    "#4.1 Network Architectures"
   ]
  },
  {
   "cell_type": "markdown",
   "metadata": {},
   "source": [
    "#### **Section 5: Model Training**"
   ]
  },
  {
   "cell_type": "markdown",
   "metadata": {},
   "source": [
    "1. Model Preparation\n",
    "   1. Model\n",
    "   2. Criterio\n",
    "   3. Optimizer\n",
    "\n",
    "2. Model Training\n",
    "3. Training History Plot"
   ]
  },
  {
   "cell_type": "code",
   "execution_count": null,
   "metadata": {},
   "outputs": [],
   "source": [
    "#5.1 Model Preparation"
   ]
  },
  {
   "cell_type": "code",
   "execution_count": null,
   "metadata": {},
   "outputs": [],
   "source": [
    "#5.2 Model Training"
   ]
  },
  {
   "cell_type": "code",
   "execution_count": null,
   "metadata": {},
   "outputs": [],
   "source": [
    "#5.3 History of training and validation loss"
   ]
  },
  {
   "cell_type": "code",
   "execution_count": null,
   "metadata": {},
   "outputs": [],
   "source": [
    "#5.3 History of training and validation loss"
   ]
  },
  {
   "cell_type": "markdown",
   "metadata": {},
   "source": [
    "#### **Section 6: Testing and Evaluation**"
   ]
  },
  {
   "cell_type": "markdown",
   "metadata": {},
   "source": [
    "1. Load Best Model\n",
    "2. Calculate Metrics Performance\n",
    "3. Visualization"
   ]
  },
  {
   "cell_type": "markdown",
   "metadata": {},
   "source": [
    "##### Classification Metrics\n",
    "\n",
    "##### 1. R-Square (Coefficient of Determination)\n",
    "$R^2 = 1 - \\frac{\\sum (y_i - \\hat{y}_i)^2}{\\sum (y_i - \\bar{y})^2}$\n",
    "\n",
    "- $y_i$: Actual values\n",
    "- $\\hat{y}_i$: Predicted values\n",
    "- $\\bar{y}$: Mean of the actual values\n",
    "\n",
    "##### 2. Accuracy\n",
    "Measures the ratio of correctly predicted instances out of the total instances:\n",
    "\n",
    "$\\text{Accuracy} = \\frac{TP + TN}{TP + TN + FP + FN}$\n",
    "- TP: True Positives\n",
    "- TN: True Negatives\n",
    "- FP: False Positives\n",
    "- FN: False Negatives\n",
    "  \n",
    "##### 3. Precision\n",
    "Ratio of true positive predictions to the total predicted positives:\n",
    "\n",
    "$\\text{Precision} = \\frac{TP}{TP + FP}$\n",
    "\n",
    "##### 4. Recall\n",
    "Ratio of true positive predictions to the total actual positives:\n",
    "\n",
    "$\\text{Recall} = \\frac{TP}{TP + FN}$\n",
    "\n",
    "##### 5. F1 Score\n",
    "Harmonic mean of Precision and Recall:\n",
    "\n",
    "$F1 = 2 \\cdot \\frac{\\text{Precision} \\cdot \\text{Recall}}{\\text{Precision} + \\text{Recall}}$"
   ]
  },
  {
   "cell_type": "markdown",
   "metadata": {},
   "source": [
    "##### Regression Metrics\n",
    "\n",
    "##### 1. R-Square (Coefficient of Determination)\n",
    "$R^2 = 1 - \\frac{\\sum (y_i - \\hat{y}_i)^2}{\\sum (y_i - \\bar{y})^2}$\n",
    "\n",
    "- $y_i$: Actual values\n",
    "- $\\hat{y}_i$: Predicted values\n",
    "- $\\bar{y}$: Mean of the actual values\n",
    "- \n",
    "##### 2. Mean Absolute Error (MAE)\n",
    "Average of the absolute differences between actual and predicted values:\n",
    "\n",
    "$\\text{MAE} = \\frac{1}{n} \\sum_{i=1}^{n} |y_i - \\hat{y}_i|$\n",
    "\n",
    "- $n$: Number of observations\n",
    "\n",
    "##### 3. Mean Square Error (MSE)\n",
    "Average of the squared differences between actual and predicted values:\n",
    "\n",
    "$\\text{MSE} = \\frac{1}{n} \\sum_{i=1}^{n} (y_i - \\hat{y}_i)^2$\n",
    "\n",
    "- $n$: Number of observations"
   ]
  },
  {
   "cell_type": "code",
   "execution_count": null,
   "metadata": {},
   "outputs": [],
   "source": [
    "#6.1-6.2 Load the best model, Calculate Metrics Performance"
   ]
  },
  {
   "cell_type": "code",
   "execution_count": null,
   "metadata": {},
   "outputs": [],
   "source": [
    "#6.3 Visualization"
   ]
  },
  {
   "cell_type": "markdown",
   "metadata": {},
   "source": [
    "#### **Section 7: Saving Data Prediction to CSV**"
   ]
  }
 ],
 "metadata": {
  "kernelspec": {
   "display_name": "Python 3",
   "language": "python",
   "name": "python3"
  },
  "language_info": {
   "codemirror_mode": {
    "name": "ipython",
    "version": 3
   },
   "file_extension": ".py",
   "mimetype": "text/x-python",
   "name": "python",
   "nbconvert_exporter": "python",
   "pygments_lexer": "ipython3",
   "version": "3.8.19"
  }
 },
 "nbformat": 4,
 "nbformat_minor": 2
}
